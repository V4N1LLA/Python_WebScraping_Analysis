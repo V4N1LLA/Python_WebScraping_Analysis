{
 "cells": [
  {
   "cell_type": "markdown",
   "id": "eb0bfa44",
   "metadata": {},
   "source": [
    "## 1. 뉴스제목 가져오기\n",
    "* user-agent 요청헤더를 반드시 설정해야 한다."
   ]
  },
  {
   "cell_type": "code",
   "execution_count": 1,
   "id": "f0d27781",
   "metadata": {},
   "outputs": [],
   "source": [
    "# requests 라이브러리 설치여부 확인"
   ]
  },
  {
   "cell_type": "code",
   "execution_count": 2,
   "id": "f7798ea8",
   "metadata": {},
   "outputs": [],
   "source": [
    "# beautifulsoup4 라이브러리 설치여부 확인"
   ]
  },
  {
   "cell_type": "code",
   "execution_count": 3,
   "id": "bf80a429",
   "metadata": {},
   "outputs": [],
   "source": [
    "# reqeusts, bs4 import\n",
    "\n",
    "# BeautifulSoup 클래스 import\n"
   ]
  },
  {
   "cell_type": "code",
   "execution_count": 4,
   "id": "9788d6ac",
   "metadata": {},
   "outputs": [],
   "source": [
    "# requests, bs4 버전 확인하기"
   ]
  },
  {
   "cell_type": "markdown",
   "id": "ccb91def-cde3-4aeb-b0e5-2e7233500333",
   "metadata": {},
   "source": [
    "### 1. 뉴스 제목 추출하기"
   ]
  },
  {
   "cell_type": "code",
   "execution_count": 6,
   "id": "94c12fd6",
   "metadata": {},
   "outputs": [
    {
     "name": "stdout",
     "output_type": "stream",
     "text": [
      "https://news.naver.com/section/105\n"
     ]
    }
   ],
   "source": [
    "# IT/과학 뉴스 \n",
    "req_param = {\n",
    "    'sid': 105\n",
    "}\n",
    "# \n",
    "url = 'https://news.naver.com/section/{sid}'.format(**req_param)\n",
    "print(url)\n",
    "\n",
    "# 요청 헤더 설정 : 브라우저 정보\n",
    "req_header = {\n",
    "    \n",
    "}\n",
    "\n",
    "# requests 의 get() 함수 호출하기 \n",
    "\n",
    "# 응답(response)이 OK 이면\n",
    "# 응답 (response)에서 text 추출\n",
    "# BeautifulSoup 객체 생성  \n",
    "# CSS 선택자\n",
    "# print(soup.select(\"div.sa_text a[href*='mnews/article']\"))\n",
    "\n",
    "# <a> 태그 리스트 순회하기    \n",
    "\n",
    "# 응답(response)이 Error 이면 status code 출력    \n",
    "\n"
   ]
  },
  {
   "cell_type": "markdown",
   "id": "45640860-a449-4285-90d7-5f300292b461",
   "metadata": {},
   "source": [
    "### 1.1 뉴스제목 추출하는 함수 선언하기"
   ]
  },
  {
   "cell_type": "code",
   "execution_count": 7,
   "id": "9f2e4ef8",
   "metadata": {},
   "outputs": [],
   "source": [
    "import requests\n",
    "from bs4 import BeautifulSoup\n",
    "\n",
    "section_dict = {100:'정치',101:'경제',102:'사회',103:'생활/문화',104:'세계',105:'IT/과학'}\n",
    "\n",
    "def print_news(sid, section):  #print_new(103,'생활/문화') \n",
    "    pass"
   ]
  },
  {
   "cell_type": "code",
   "execution_count": 8,
   "id": "858952c6",
   "metadata": {},
   "outputs": [],
   "source": [
    "print_news(103,section_dict[103])"
   ]
  },
  {
   "cell_type": "markdown",
   "id": "323196dc",
   "metadata": {},
   "source": [
    "### 2. Image 다운로드\n",
    "* referer 요청 헤더를 반드시 설정해야 한다."
   ]
  },
  {
   "cell_type": "code",
   "execution_count": 4,
   "id": "c72d6cb1",
   "metadata": {},
   "outputs": [
    {
     "name": "stdout",
     "output_type": "stream",
     "text": [
      "https://image-comic.pstatic.net/webtoon/798173/5/20220804112251_d97bd1e1b38f0cd022e4e3639d2926b3_IMAG01_1.jpg\n",
      "200\n",
      "Writing 20220804112251_d97bd1e1b38f0cd022e4e3639d2926b3_IMAG01_1.jpg(299319 bytes)\n",
      "https://image-comic.pstatic.net/webtoon/798173/5/20220804112251_d97bd1e1b38f0cd022e4e3639d2926b3_IMAG01_2.jpg\n",
      "200\n",
      "Writing 20220804112251_d97bd1e1b38f0cd022e4e3639d2926b3_IMAG01_2.jpg(163333 bytes)\n",
      "https://image-comic.pstatic.net/webtoon/798173/5/20220804112251_d97bd1e1b38f0cd022e4e3639d2926b3_IMAG01_3.jpg\n",
      "200\n",
      "Writing 20220804112251_d97bd1e1b38f0cd022e4e3639d2926b3_IMAG01_3.jpg(182530 bytes)\n"
     ]
    }
   ],
   "source": [
    "import requests\n",
    "import os\n",
    "\n",
    "req_header = {\n",
    "    'referer':'https://comic.naver.com/webtoon/detail?titleId=798173&no=5&amp;weekday=thu'\n",
    "}\n",
    "\n",
    "img_urls = [\n",
    "    'https://image-comic.pstatic.net/webtoon/798173/5/20220804112251_d97bd1e1b38f0cd022e4e3639d2926b3_IMAG01_1.jpg',\n",
    "    'https://image-comic.pstatic.net/webtoon/798173/5/20220804112251_d97bd1e1b38f0cd022e4e3639d2926b3_IMAG01_2.jpg',\n",
    "    'https://image-comic.pstatic.net/webtoon/798173/5/20220804112251_d97bd1e1b38f0cd022e4e3639d2926b3_IMAG01_3.jpg'\n",
    "]\n",
    "\n",
    "for img_url in img_urls:\n",
    "    print(img_url)\n",
    "    # requests 의 get(url, headers) 함수 호출하기 \n",
    "    res = requests.get(img_url, headers=req_header)  # binary 응답 데이터 가져오기\n",
    "    print(res.status_code)  # 응답 상태코드 확인하기\n",
    "    if res.ok:\n",
    "        img_data = res.content  # 응답 데이터에서 binary data 추출하기\n",
    "        # url에서 파일명만 추출하기\n",
    "        file_name = os.path.basename(img_url)  # 파일명 추출하기\n",
    "        # binday data를 file에 write하기\n",
    "        with open(file_name, 'wb') as file:\n",
    "            print(f'Writing {file_name}({len(img_data)} bytes)')\n",
    "            file.write(img_data)"
   ]
  },
  {
   "cell_type": "markdown",
   "id": "e8b00a04",
   "metadata": {},
   "source": [
    "* 현재 요청된 페이지의 image 모두 다운로드 해보기"
   ]
  },
  {
   "cell_type": "code",
   "execution_count": null,
   "id": "b30f7bf5",
   "metadata": {},
   "outputs": [
    {
     "name": "stdout",
     "output_type": "stream",
     "text": [
      "19\n",
      "71\n",
      "71\n",
      "19 ['https://image-comic.pstatic.net/webtoon/833255/35/20250107185236_7c4b279b6b7816fb2920b82077a98786_IMAG01_1.jpg', 'https://image-comic.pstatic.net/webtoon/833255/35/20250107185236_7c4b279b6b7816fb2920b82077a98786_IMAG01_2.jpg', 'https://image-comic.pstatic.net/webtoon/833255/35/20250107185236_7c4b279b6b7816fb2920b82077a98786_IMAG01_3.jpg']\n"
     ]
    }
   ],
   "source": [
    "import requests\n",
    "from bs4 import BeautifulSoup\n",
    "import os\n",
    "\n",
    "url = 'https://comic.naver.com/webtoon/detail?titleId=833255&no=35&week=tue'\n",
    "req_header = {\n",
    "    'referer':url\n",
    "}\n",
    "res = requests.get(url)\n",
    "if res.ok:\n",
    "    soup = BeautifulSoup(res.text, 'html.parser')\n",
    "    print(len(soup.select(\"img[src*='IMAG01']\")))\n",
    "    print(len(soup.select(\"img[src$='.jpg']\")))\n",
    "    print(len(soup.select(\"img[src^='https://image-comic']\")))\n",
    "\n",
    "    img_tags = soup.select(\"img[src*='IMAG01']\")\n",
    "    # img src를 저장할 list 선언\n",
    "    img_url_list = list() \n",
    "    for img_tag in img_tags:\n",
    "        img_src = img_tag['src']\n",
    "        img_url_list.append(img_src)\n",
    "    print(len(img_url_list), img_url_list[:3])\n",
    "\n",
    "    #img 디렉토리 생성하기\n",
    "    imgdir_name = 'img'\n",
    "    #img 디렉토리가 없으면 생성\n",
    "    if not os.path.isdir(imgdir_name):\n",
    "        os.mkdir(imgdir_name)\n",
    "else:\n",
    "    print(f'Error code = {res.status_code}')"
   ]
  },
  {
   "cell_type": "markdown",
   "id": "2ac9f5f9",
   "metadata": {},
   "source": [
    "### 3. 파일 업로드 하기\n",
    "* http://httpbin.org/post 업로드 요청을 할 수 있는 url"
   ]
  },
  {
   "cell_type": "code",
   "execution_count": 10,
   "id": "04da4790",
   "metadata": {},
   "outputs": [],
   "source": [
    "import requests\n",
    "\n",
    "upload_files = {\n",
    "    \n",
    "}\n",
    "#print(upload_files)\n",
    "\n",
    "url = 'http://httpbin.org/post'\n",
    "# file 업로드 하려면 requests의 post 함수에 files 속성을 사용합니다.\n",
    "\n"
   ]
  },
  {
   "cell_type": "markdown",
   "id": "7ad65f12",
   "metadata": {},
   "source": [
    "### 4. 캡챠(이미지) API 호출하기\n",
    "* urllib 사용\n",
    "* 1. 캡차 키 발급 요청\n",
    "  2. 캡차 이미지 요청\n",
    "  3. 사용자 입력값 검증 요청"
   ]
  },
  {
   "cell_type": "code",
   "execution_count": 2,
   "id": "bc4ae360-e772-4873-8642-d3494edd34e1",
   "metadata": {},
   "outputs": [],
   "source": [
    "# 캡차 키 발급 요청\n"
   ]
  },
  {
   "cell_type": "code",
   "execution_count": 1,
   "id": "7b95b6a0-c218-4792-82a6-da4d80872071",
   "metadata": {},
   "outputs": [],
   "source": [
    "# 캡차 이미지 요청\n"
   ]
  },
  {
   "cell_type": "code",
   "execution_count": 3,
   "id": "a79076af-2cd0-4de2-8301-316b9130c55e",
   "metadata": {},
   "outputs": [],
   "source": [
    "#  사용자 입력값 검증 요청\n",
    "\n"
   ]
  },
  {
   "cell_type": "markdown",
   "id": "b7d984a6",
   "metadata": {},
   "source": [
    "* requests를 사용하는 코드로 변경하기\n",
    "* [requests docs](https://requests.readthedocs.io/en/latest/user/quickstart/)"
   ]
  },
  {
   "cell_type": "code",
   "execution_count": null,
   "id": "727b427b",
   "metadata": {
    "scrolled": true
   },
   "outputs": [
    {
     "name": "stdout",
     "output_type": "stream",
     "text": [
      "Error Code: 403\n"
     ]
    }
   ],
   "source": [
    "# 사용자 입력값 검증 요청\n",
    "\n"
   ]
  },
  {
   "cell_type": "markdown",
   "id": "d5e1179a",
   "metadata": {},
   "source": [
    "### 5. 블로그 검색하기"
   ]
  },
  {
   "cell_type": "code",
   "execution_count": null,
   "id": "877d0c7f",
   "metadata": {},
   "outputs": [],
   "source": [
    "import requests\n",
    "import pprint\n",
    "\n",
    "headers = {\n",
    "    'X-Naver-Client-Id': '',\n",
    "    'X-Naver-Client-Secret': '',\n",
    "}\n",
    "\n",
    "payload = {\n",
    "    'query': '파이썬',\n",
    "    'display': 100,\n",
    "    'sort': 'sim'\n",
    "}\n",
    "\n",
    "url = 'https://openapi.naver.com/v1/search/blog.json'\n",
    "\n",
    "\n",
    "# requests get(url, params, headers) 요청 \n",
    "\n",
    "# json() 함수로 응답 결과 가져오오기\n",
    "# 'title' , 'bloggername' , 'description' , 'bloggerlink' , 'link'\n",
    "\n",
    "# 'data/nhnblog.txt' 파일 생성하기\n"
   ]
  }
 ],
 "metadata": {
  "kernelspec": {
   "display_name": "base",
   "language": "python",
   "name": "python3"
  },
  "language_info": {
   "codemirror_mode": {
    "name": "ipython",
    "version": 3
   },
   "file_extension": ".py",
   "mimetype": "text/x-python",
   "name": "python",
   "nbconvert_exporter": "python",
   "pygments_lexer": "ipython3",
   "version": "3.12.7"
  }
 },
 "nbformat": 4,
 "nbformat_minor": 5
}
